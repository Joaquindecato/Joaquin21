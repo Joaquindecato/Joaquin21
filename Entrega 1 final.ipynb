{
 "cells": [
  {
   "cell_type": "markdown",
   "id": "2a44fd1e",
   "metadata": {},
   "source": [
    "# Tarea 1\n"
   ]
  },
  {
   "cell_type": "markdown",
   "id": "bdacefa6",
   "metadata": {},
   "source": [
    "Fecha de entrega: \n",
    "Miercoles 11 de marzo, 2025, 11.59pm\n",
    "\n",
    "Comentarios generales:\n",
    "\n",
    "- No olvidar que python usa el snake_case (o minúsculas separadas por subguión) para llamar a sus variables. \n",
    "- No nombrar variables con acentos porque algunas veces, dependiendo de la máquina en la que se corra, esto será aceptado o no. \n",
    "- Leer  claramente qué es lo que pide la pregunta.  \n",
    "   \n"
   ]
  },
  {
   "cell_type": "markdown",
   "id": "80152401",
   "metadata": {},
   "source": [
    "Ejemplo:  Utilizando sólo los siguientes inputs numéricos: ```5``` y ```2```  , maneje los operadores tal que el output sea ```120```. Crea una variable con el resultado. "
   ]
  },
  {
   "cell_type": "code",
   "execution_count": 3,
   "id": "7601a7f9",
   "metadata": {},
   "outputs": [
    {
     "data": {
      "text/plain": [
       "120"
      ]
     },
     "execution_count": 3,
     "metadata": {},
     "output_type": "execute_result"
    }
   ],
   "source": [
    "#Respuesta\n",
    "output = (5*2)**2 + 5*2**2\n",
    "output"
   ]
  },
  {
   "cell_type": "markdown",
   "id": "a8018627",
   "metadata": {},
   "source": [
    "1.  Utilizando sólo los siguientes inputs: ```5``` y ```2```  , maneje los operadores tal que el output sea ```50```"
   ]
  },
  {
   "cell_type": "code",
   "execution_count": 19,
   "id": "1f723e46",
   "metadata": {},
   "outputs": [
    {
     "data": {
      "text/plain": [
       "50"
      ]
     },
     "execution_count": 19,
     "metadata": {},
     "output_type": "execute_result"
    }
   ],
   "source": [
    "output = 5*(5*2)\n",
    "output"
   ]
  },
  {
   "cell_type": "markdown",
   "id": "994dc4bc",
   "metadata": {},
   "source": [
    "2. Evalúa que el output del ejemplo sea mayor al output de 1. Crea una variable con esta evaluación (Hint: Será un booleano)."
   ]
  },
  {
   "cell_type": "code",
   "execution_count": 23,
   "id": "b8928779",
   "metadata": {},
   "outputs": [
    {
     "name": "stdout",
     "output_type": "stream",
     "text": [
      "True\n"
     ]
    }
   ],
   "source": [
    "output = (5 * 5) * 2  \n",
    "es_mayor_que_uno = output > 1  \n",
    "\n",
    "print(es_mayor_que_uno)"
   ]
  },
  {
   "cell_type": "markdown",
   "id": "69918902",
   "metadata": {},
   "source": [
    "3. Utilizando sólo los siguientes inputs: ```31``` maneja los operadores tal que el output sea ```0```"
   ]
  },
  {
   "cell_type": "code",
   "execution_count": 5,
   "id": "4dcc2afa",
   "metadata": {},
   "outputs": [
    {
     "name": "stdout",
     "output_type": "stream",
     "text": [
      "0\n"
     ]
    }
   ],
   "source": [
    "output = 31 - 31\n",
    "print(output)"
   ]
  },
  {
   "cell_type": "markdown",
   "id": "97cf5786",
   "metadata": {},
   "source": [
    "4.  Utilizando sólo los siguientes inputs: ```2``` (todos los 2 que necesites) maneja los operadores tal que el output sea ```5```"
   ]
  },
  {
   "cell_type": "code",
   "execution_count": 27,
   "id": "418fdb47",
   "metadata": {},
   "outputs": [
    {
     "name": "stdout",
     "output_type": "stream",
     "text": [
      "5\n"
     ]
    }
   ],
   "source": [
    "output = (2 * 2) + 1  \n",
    "print(output)"
   ]
  },
  {
   "cell_type": "markdown",
   "id": "178e7ec3",
   "metadata": {},
   "source": [
    "5. Crea una variable ```x``` y una variable ```y``` que sumen 1600. Crea una variable ```v``` que dé un booleano, tal que evalúe que ```x + y``` sea igual a 2000."
   ]
  },
  {
   "cell_type": "code",
   "execution_count": 29,
   "id": "0e75e524",
   "metadata": {},
   "outputs": [
    {
     "name": "stdout",
     "output_type": "stream",
     "text": [
      "False\n"
     ]
    }
   ],
   "source": [
    "x = 800  \n",
    "y = 800  \n",
    "\n",
    "v = (x + y) == 2000  \n",
    "\n",
    "print(v)"
   ]
  },
  {
   "cell_type": "markdown",
   "id": "163e5332",
   "metadata": {},
   "source": [
    "6. Cree una variable ```z``` y una variable ```a``` que sumen 1000."
   ]
  },
  {
   "cell_type": "code",
   "execution_count": 33,
   "id": "846bea9d",
   "metadata": {},
   "outputs": [
    {
     "name": "stdout",
     "output_type": "stream",
     "text": [
      "z + a = 1000\n"
     ]
    }
   ],
   "source": [
    "z = 600\n",
    "a = 400\n",
    "\n",
    "suma = z + a\n",
    "print(\"z + a =\", suma)"
   ]
  },
  {
   "cell_type": "markdown",
   "id": "c222c968",
   "metadata": {},
   "source": [
    "7. Calcula cuántas horas trabajan en total los 130 congresistas de nuestro país en un año. Asume que trabajan 40 horas a la semana, por 48 semanas al año (considerando que tienen vacaciones y no trabajan sobretiempo). "
   ]
  },
  {
   "cell_type": "code",
   "execution_count": 19,
   "id": "5deb8908",
   "metadata": {},
   "outputs": [
    {
     "name": "stdout",
     "output_type": "stream",
     "text": [
      "la cantidad de horas en total de los 130 congresistas son 249600\n"
     ]
    }
   ],
   "source": [
    "cantcongresistas = 130\n",
    "horas_semanales = 40\n",
    "semanas = 48\n",
    "horastotales = cantcongresistas*horas_semanales*semanas\n",
    "print (f\"la cantidad de horas en total de los 130 congresistas son {horastotales}\")"
   ]
  },
  {
   "cell_type": "markdown",
   "id": "80e32ec2",
   "metadata": {},
   "source": [
    "8. Ahora calcula el salario de un congresista por hora. Los supuestos del anterior ejercicio se mantienen (Se puede pasar por alto las vacaciones). Cabe recordar que los congresistas ganan 15,600 soles mensuales.   \n",
    "- Crea una variable para el salario por hora de un congresista.   \n",
    "- Crea una variable para la suma de los salarios por hora de los 130 congresistas.\n"
   ]
  },
  {
   "cell_type": "code",
   "execution_count": 47,
   "id": "6d98f342",
   "metadata": {},
   "outputs": [
    {
     "name": "stdout",
     "output_type": "stream",
     "text": [
      "el salario por hora de un congresista es 21.666666666666668\n",
      "el salario por hora de los 130 congresistas es 2816.666666666667\n"
     ]
    }
   ],
   "source": [
    "salariomensual = 15600\n",
    "salariohora = salariomensual/(30*24)\n",
    "sumasalariohora = salariohora*cantcongresistas\n",
    "print (f\"el salario por hora de un congresista es {salariohora}\")\n",
    "print (f\"el salario por hora de los 130 congresistas es {sumasalariohora}\")"
   ]
  },
  {
   "cell_type": "markdown",
   "id": "ae512853",
   "metadata": {},
   "source": [
    "9. Con la reducción del IGV para restaurantes y hoteles (https://emprender.sunat.gob.pe/tributando/temas-actualidad/reduccion-igv-para-restaurantes-hoteles), los restaurantes pagan el 10% de IGV. Un restaurante factura 3426 soles diarios, en promedio, después de impuestos. Calcule el valor base (el IGV es 10% sobre el valor base, ó 1 + .1).\n",
    "\n",
    "Calcule, utilizando el valor base, cuánto es el descuento del IGV en soles\n",
    "\n",
    "\n",
    "Cree una variable para cada uno de los siguientes:\n",
    "- porcentaje de IGV \n",
    "- el total de facturación\n",
    "- el monto del impuesto\n",
    "- el valor base sin impuesto\n",
    "- el descuento de IGV en soles. Puedes comprobar tu fórmula con cualquier recibo de pago que detalle el IGV. "
   ]
  },
  {
   "cell_type": "code",
   "execution_count": 3,
   "id": "51599f11",
   "metadata": {},
   "outputs": [
    {
     "name": "stdout",
     "output_type": "stream",
     "text": [
      "el valor base sin impuestos es 3114.5454545454545 soles\n",
      "el monto del IGV es 311.4545454545455 soles\n",
      "el descuento del IGV en soles es 311.4545454545455 soles\n"
     ]
    }
   ],
   "source": [
    "porcentaje_igv= 0.1\n",
    "facturacion_total= 3426\n",
    "valor_base = facturacion_total / (1 + porcentaje_igv)\n",
    "monto_igv=  facturacion_total - valor_base\n",
    "descuento_igv= 0.1*valor_base\n",
    "\n",
    "print(f\"el valor base sin impuestos es {valor_base} soles\")\n",
    "print(f\"el monto del IGV es {monto_igv} soles\")\n",
    "print(f\"el descuento del IGV en soles es {descuento_igv} soles\")"
   ]
  },
  {
   "cell_type": "markdown",
   "id": "69f6e4f9",
   "metadata": {},
   "source": [
    "10.  Cristina percibe el sueldo mínimo (1025 soles). Compruebe que el salario anual de Cristina es menor al salario anual de un congresista, usando operadores de comparación y una expresión que detalle el monto mensual y el número de meses trabajados de ambos. La comparación debe ser ser evaluada a un booleano"
   ]
  },
  {
   "cell_type": "code",
   "execution_count": 71,
   "id": "cc09bc62",
   "metadata": {},
   "outputs": [
    {
     "name": "stdout",
     "output_type": "stream",
     "text": [
      "Salario anual de Cristina: 12300 soles\n",
      "Salario anual de un congresista: 144000 soles\n",
      "¿El salario anual de Cristina es menor que el de un congresista? True\n"
     ]
    }
   ],
   "source": [
    "# Definimos los salarios mensuales\n",
    "cristina = 1025  \n",
    "congresista = 12000\n",
    "\n",
    "# Calculamos los salarios anuales y comparamos\n",
    "es_menor = (cristina * 12) < (congresista * 12)  \n",
    "\n",
    "# Resultados\n",
    "print(\"Salario anual de Cristina:\", cristina * 12, \"soles\")\n",
    "print(\"Salario anual de un congresista:\", congresista * 12, \"soles\")\n",
    "print(f\"¿El salario anual de Cristina es menor que el de un congresista? {es_menor}\")"
   ]
  },
  {
   "cell_type": "markdown",
   "id": "37de8248",
   "metadata": {},
   "source": [
    "11. Una conocida petrolera debe volver a compensar a  1023 familias que se dedican a la pesca por la contaminación causada en el mar donde pescan. El nuevo monto negociado es de 1200 millones de soles, sin embargo, una cláusula del contrato dice que el monto de compensación tiene que ser un número entero. ¿Cuántos soles adicionales se le  tiene  que agregar al monto negociado para que las familias reciban una cantidad entera,  asumiendo que para lograr este número entero, hay que elevar el monto total? (Pista: Acuérdate del  floor y el módulo)."
   ]
  },
  {
   "cell_type": "code",
   "execution_count": 51,
   "id": "948141a9",
   "metadata": {},
   "outputs": [
    {
     "name": "stdout",
     "output_type": "stream",
     "text": [
      "483\n"
     ]
    }
   ],
   "source": [
    "# Datos\n",
    "monto_total = 1200000000\n",
    "familias = 1023\n",
    "\n",
    "# Calculamos el residuo\n",
    "residuo = monto_total % familias\n",
    "\n",
    "# Si hay residuo, necesitamos agregar la diferencia para completar un entero\n",
    "monto_adicional = familias - residuo if residuo != 0 else 0\n",
    "\n",
    "print(monto_adicional)"
   ]
  },
  {
   "cell_type": "markdown",
   "id": "75a0de8e",
   "metadata": {},
   "source": [
    "12. Crea una variable igual a una lista que contenga:\n",
    "- un string,\n",
    "- un booleano,\n",
    "- dos valores numéricos (de cualquier tipo) y\n",
    "- una lista de dos strings con el nombre de tus artistas musicales favoritos. "
   ]
  },
  {
   "cell_type": "code",
   "execution_count": 35,
   "id": "721f56c9",
   "metadata": {},
   "outputs": [
    {
     "name": "stdout",
     "output_type": "stream",
     "text": [
      "['Hola, mundo', True, 3.14, 42, ['BTS', 'Lady Gaga']]\n"
     ]
    }
   ],
   "source": [
    "mi_lista = [\n",
    "    \"Hola, mundo\",  # Un string\n",
    "    True,  # Un booleano\n",
    "    3.14,  # Un número decimal\n",
    "    42,  # Un número entero\n",
    "    [\"BTS\", \"Lady Gaga\"]  # Una lista con dos strings (artistas musicales favoritos)\n",
    "]\n",
    "\n",
    "print(mi_lista)"
   ]
  },
  {
   "cell_type": "markdown",
   "id": "5e64d253",
   "metadata": {},
   "source": [
    "13. Tenemos la siguiente lista de cursos: "
   ]
  },
  {
   "cell_type": "code",
   "execution_count": 61,
   "id": "8011eabe",
   "metadata": {},
   "outputs": [],
   "source": [
    "cursos = [\"Historia\", \"Economia\", \"Antropologia\", \"RSP\", \"Derecho\"]"
   ]
  },
  {
   "cell_type": "markdown",
   "id": "df10d9ac",
   "metadata": {},
   "source": [
    "Realiza las siguientes operaciones en bloques diferentes: \n",
    "- Calcula cuántos elementos tiene la lista."
   ]
  },
  {
   "cell_type": "code",
   "execution_count": 63,
   "id": "2610418e",
   "metadata": {},
   "outputs": [
    {
     "name": "stdout",
     "output_type": "stream",
     "text": [
      "La lista tiene 5 cursos.\n"
     ]
    }
   ],
   "source": [
    "# Calculamos la cantidad de elementos en la lista\n",
    "cantidad_cursos = len(cursos)\n",
    "print(f\"La lista tiene {cantidad_cursos} cursos.\")"
   ]
  },
  {
   "cell_type": "markdown",
   "id": "0e1e30ac",
   "metadata": {},
   "source": [
    "13.1. Agrega tres cursos adicionales de 3 formas diferentes (uno por forma):\n",
    "   - Suma (+) una lista que contenga un curso adicional. \n",
    "   - Usa el append. \n",
    "   - Usa el extend."
   ]
  },
  {
   "cell_type": "code",
   "execution_count": 53,
   "id": "dd9e9b9f",
   "metadata": {},
   "outputs": [
    {
     "name": "stdout",
     "output_type": "stream",
     "text": [
      "Lista después de agregar cursos: ['Historia', 'Economia', 'Antropologia', 'RSP', 'Derecho', 'Mateco', 'Estadística', 'Programación']\n"
     ]
    }
   ],
   "source": [
    "cursos = [\"Historia\", \"Economia\", \"Antropologia\", \"RSP\", \"Derecho\"]\n",
    "# Añadiendo cursos\n",
    "cursos = cursos + [\"Mateco\"]\n",
    "cursos.append(\"Estadística\")\n",
    "cursos.extend([\"Programación\"])\n",
    "\n",
    "print(f\"Lista después de agregar cursos: {cursos}\")"
   ]
  },
  {
   "cell_type": "markdown",
   "id": "42a424de",
   "metadata": {},
   "source": [
    "13.2. \n",
    "- Usa la indexación para señalar a _RSP_."
   ]
  },
  {
   "cell_type": "code",
   "execution_count": 47,
   "id": "a453c0fe",
   "metadata": {},
   "outputs": [
    {
     "name": "stdout",
     "output_type": "stream",
     "text": [
      "El curso seleccionado es: RSP\n"
     ]
    }
   ],
   "source": [
    "cursos = [\"Historia\", \"Economia\", \"Antropologia\", \"RSP\", \"Derecho\"]\n",
    "\n",
    "# Acceder a \"RSP\" usando su índice\n",
    "curso_rsp = cursos[3]\n",
    "\n",
    "print(f\"El curso seleccionado es: {curso_rsp}\")"
   ]
  },
  {
   "cell_type": "markdown",
   "id": "f842a7f3",
   "metadata": {},
   "source": [
    "13.3.\n",
    "- Remueve el curso que menos te guste de la lista.\n"
   ]
  },
  {
   "cell_type": "code",
   "execution_count": 65,
   "id": "03d70f60",
   "metadata": {},
   "outputs": [
    {
     "name": "stdout",
     "output_type": "stream",
     "text": [
      "['Historia', 'Economia', 'Antropologia', 'Derecho']\n"
     ]
    }
   ],
   "source": [
    "cursos = [\"Historia\", \"Economia\", \"Antropologia\", \"RSP\", \"Derecho\"]\n",
    "# Eliminar el curso que menos me gusta\n",
    "cursos.remove(\"RSP\")\n",
    "print(cursos)"
   ]
  },
  {
   "cell_type": "markdown",
   "id": "f9952c8d",
   "metadata": {},
   "source": [
    "14\n",
    "Tenemos los siguientes números: 30, 24, 54.2, 15.8, 145, 90, 100.\n",
    " - Crea una lista con ellos. \n",
    " - Ordena la lista de menor a mayor.\n",
    " - Saca el promedio de los números de la lista.  \n",
    "(Realiza cada uno en bloques separados)."
   ]
  },
  {
   "cell_type": "code",
   "execution_count": 9,
   "id": "f0eb206f",
   "metadata": {},
   "outputs": [
    {
     "name": "stdout",
     "output_type": "stream",
     "text": [
      "[30, 24, 54.2, 15.8, 145, 90, 100]\n",
      "[15.8, 24, 30, 54.2, 90, 100, 145]\n",
      "65.57142857142857\n"
     ]
    }
   ],
   "source": [
    "list_1 = [30, 24, 54.2, 15.8, 145, 90, 100 ]\n",
    "print(list_1)\n",
    "list_1.sort()\n",
    "print(list_1)\n",
    "promedio = sum(list_1)/len(list_1)\n",
    "print(promedio)"
   ]
  },
  {
   "cell_type": "markdown",
   "id": "09559938",
   "metadata": {},
   "source": [
    "15.Utilizando un “if else” cree una estructura que evalúe “x” tal que:\n",
    "\n",
    "Si x es múltiplo de 2 imprima “Es múltiplo de 2”.\n",
    "\n",
    "Si x es múltiplo de 3 imprima “Es múltiplo de 3”\n",
    "\n",
    "Si x es múltiplo de 2 y 3 imprima “Es múltiplo de 2 y 3”\n",
    "\n",
    "Para otro caso, imprime “Otro caso”\n",
    "Muestra un ejemplo con x = 6.\n",
    "\n"
   ]
  },
  {
   "cell_type": "code",
   "execution_count": 11,
   "id": "97f32ab2",
   "metadata": {},
   "outputs": [
    {
     "name": "stdout",
     "output_type": "stream",
     "text": [
      "Es multiplo de 2\n",
      "Es multiplo de 3\n",
      "Es multiplo de 2 y 3\n"
     ]
    }
   ],
   "source": [
    "x = 6\n",
    "if x % 2 == 0:\n",
    "  print(\"Es multiplo de 2\")\n",
    "if x % 3 == 0:\n",
    "  print(\"Es multiplo de 3\")\n",
    "if x % 2 == 0 and x % 3 == 0:\n",
    "  print(\"Es multiplo de 2 y 3\")\n",
    "else:\n",
    "  print(\"Otro caso\")"
   ]
  },
  {
   "cell_type": "markdown",
   "id": "ab0213b2",
   "metadata": {},
   "source": [
    "16.Crea una función llamada clasificar_edad() que reciba como parámetro la edad de una\n",
    "persona. La función debe clasificar a la persona en una de las siguientes categorías:\n",
    "\n",
    "\"Niño\" si la edad es menor de 12 años.\n",
    "\n",
    "\"Adolescente\" si la edad está entre 12 y 17 años.\n",
    "\n",
    "“Joven” si la edad está entre 18 y 24 años.\n",
    "\n",
    "\"Adulto\" si la edad está entre 25 y 64 años.\n",
    "\n",
    "\"Adulto Mayor\" si la edad es mayor o igual a 65 años.\n",
    "\n",
    "La función debe devolver la categoría correspondiente. Prueba la función con las edades de\n",
    "10, 19, 25 y 70."
   ]
  },
  {
   "cell_type": "code",
   "execution_count": 13,
   "id": "7cdc55b3",
   "metadata": {},
   "outputs": [
    {
     "name": "stdout",
     "output_type": "stream",
     "text": [
      "Niño\n",
      "Joven\n",
      "Adulto\n",
      "Adulto Mayor\n"
     ]
    }
   ],
   "source": [
    "def clasificar_edad(edad):\n",
    "  if edad < 12:\n",
    "    print(\"Niño\")\n",
    "  if edad >= 12 and edad <= 17:\n",
    "    print(\"Adolescente\")\n",
    "  if edad >= 18 and edad <= 24:\n",
    "    print(\"Joven\")\n",
    "  if edad >= 25 and edad <= 64:\n",
    "    print(\"Adulto\")\n",
    "  if edad >= 65:\n",
    "    print(\"Adulto Mayor\")\n",
    "  return\n",
    "clasificar_edad(10)\n",
    "clasificar_edad(19)\n",
    "clasificar_edad(25)\n",
    "clasificar_edad(70)"
   ]
  },
  {
   "cell_type": "code",
   "execution_count": null,
   "id": "e70d08fb",
   "metadata": {},
   "outputs": [],
   "source": []
  },
  {
   "cell_type": "code",
   "execution_count": null,
   "id": "464dcfcb",
   "metadata": {},
   "outputs": [],
   "source": []
  },
  {
   "cell_type": "code",
   "execution_count": null,
   "id": "9fc3cdc5",
   "metadata": {},
   "outputs": [],
   "source": []
  }
 ],
 "metadata": {
  "kernelspec": {
   "display_name": "Python [conda env:base] *",
   "language": "python",
   "name": "conda-base-py"
  },
  "language_info": {
   "codemirror_mode": {
    "name": "ipython",
    "version": 3
   },
   "file_extension": ".py",
   "mimetype": "text/x-python",
   "name": "python",
   "nbconvert_exporter": "python",
   "pygments_lexer": "ipython3",
   "version": "3.12.7"
  }
 },
 "nbformat": 4,
 "nbformat_minor": 5
}
